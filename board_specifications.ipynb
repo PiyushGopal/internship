{
 "cells": [
  {
   "cell_type": "code",
   "execution_count": 1,
   "id": "ce7ff2fa",
   "metadata": {},
   "outputs": [
    {
     "name": "stdout",
     "output_type": "stream",
     "text": [
      "Requirement already satisfied: PyPDF2 in c:\\users\\hp\\anaconda3\\lib\\site-packages (3.0.1)\n",
      "Note: you may need to restart the kernel to use updated packages.\n"
     ]
    }
   ],
   "source": [
    "pip install PyPDF2\n"
   ]
  },
  {
   "cell_type": "code",
   "execution_count": 2,
   "id": "4cd1b5b0",
   "metadata": {},
   "outputs": [
    {
     "name": "stdout",
     "output_type": "stream",
     "text": [
      "Requirement already satisfied: PyMuPDF in c:\\users\\hp\\anaconda3\\lib\\site-packages (1.22.5)\n",
      "Note: you may need to restart the kernel to use updated packages.\n"
     ]
    }
   ],
   "source": [
    "pip install PyMuPDF"
   ]
  },
  {
   "cell_type": "code",
   "execution_count": 3,
   "id": "23995c11",
   "metadata": {},
   "outputs": [
    {
     "name": "stdout",
     "output_type": "stream",
     "text": [
      "no:29 mrc nagar, 2nd street\n",
      "south beach avenue\n",
      "rajah annamalaipuram\n",
      "chennai 600028\n",
      "india\n",
      "phone nr.:\n",
      "mobile: 9176190201 \n",
      "  qr-720-02\n",
      "circuit systems india ltd\n",
      "b-24, gidc electronics estate\n",
      "sector-25, gandhinagar-382044\n",
      "gujarat - india\n",
      "cin no: u74140gj1995plc024524\n",
      "ph: 7600012414 , 7600012415\n",
      "email: pcb@pcbpower.comservice : proto order\n",
      "offer no : inq180804\n",
      "date : 05/04/2019\n",
      "   \n",
      "to, smartx connected products private\n",
      "limited\n",
      " \n",
      "we acknowldge with thanks the receipt of your valued enquiry.  please find below our\n",
      "competitive offer. \n",
      "   \n",
      "pcb name delivery termpanel\n",
      "quantity(panel)unit price(panel)\n",
      "setup charge\n",
      " total price\n",
      "touch1 r2(19-3-\n",
      "2019)3 working days 5 1050 0.00 5250\n",
      "touch1 r2(19-3-\n",
      "2019)5 working days 5 721 0.00 3605\n",
      "   \n",
      "board specifications for touch1 r2(19-3-2019)\n",
      "layers 2 layer material fr4\n",
      "pcb thickness 1.60 mm surface finish hal (sn-pb)\n",
      "pcb dimensions 42.06 x 17.08 mm start cu  thickness 17.50 μm\n",
      "panel dimensions 56.06 x 107.42 mm i/l cu thickness 0.00 μm\n",
      "pcbs/panel 5 finish cu  thickness 35.00000 μm\n",
      "top solder  mask green bottom solder  maskgreen\n",
      "top legend white bottom legend white\n",
      "tg std. tg ( 130-140 °) layer build-up standard\n",
      "via fill no peel off no peel off\n",
      "carbon contacts no carbon contacts ul logo no\n",
      "hard gold (gold tabs) 0edge connector  au\n",
      "thickness0 µm\n",
      "blind & buried via no impedance  control no\n",
      "electrical  testing yes tolerances refer www.pcbpower.com\n",
      "serialization for pcbs no round edge platting no\n",
      "special buildup no bevelling no\n",
      "print et ok yes\n",
      "   \n",
      "tolerances\n",
      "drill tolerances      \n",
      "pth hole size pth tolerance npth hole size npth tolerance\n",
      "0.50 - 3.50 mm ± 0.10 mm < 0.30 mm ± 0.10 mm\n",
      "> 3.50 mm ± 0.15 mm > 0.30 mm ± 0.15 mm\n",
      "other tolerances      \n",
      "pcb size ± 0.20 mm    \n",
      "pcb thickness± 20% ( up to 0.8mm thickness) \n",
      "± 10% ( above 1.0mm thickness)   \n",
      "trace width/ spacing ± 0.20 %    \n",
      "cu. thickness inside hole >= 0.20 um    \n",
      "   \n",
      "terms & conditions\n",
      "freight : inclusive\n",
      "payment term : current dated cheque against delivery\n",
      "taxes : additional at actual (18% gst)\n",
      "validity : 30 days\n",
      "remarks :\n",
      "1. prices are subjected to modification mentioned in attached document. verify the same\n",
      "befoe ordering.\n",
      "special notes :\n",
      "1. all our deliveries are according to  general terms & conditions available on the website.\n",
      "all above mentioned prices are  based on the information provided by you at the time\n",
      "of sending the offer. this  price may be reviewed at the moment of order\n",
      "acknowledgement, after verifying the  final inputs & specifications of your pcb design\n",
      "specification.\n",
      "2. final quantity to be delivered may  vary up to 5%.\n",
      "3. delivery terms will be applicable after  the receipt of complete documentation and firmorder.\n",
      "4. even though we take atmost care to  deliver your orders on time, due to the nature of\n",
      "process industry there may be unforeseen  circumstances that can lead to minor delay\n",
      "which is beyond our control . hence,  no claims shall be accepted for delivery delay.\n",
      "5. if order is confirmed after 10:00 am on any working day, that day is not included in\n",
      "delivery days.\n",
      "6. enig finish prices are subjected  to change based on surface area. please visit website\n",
      "or contact us for further details.\n",
      "7. tolerances are as per above mentioned.\n",
      "8. material availability can be confirmed at time of order only. this may require change in\n",
      "delivery term.\n",
      "9. mentioned delivery lead time is time of dispatch from our side. transit time will be\n",
      "additional.\n",
      "we look forward to your valued order in favor of \"circuit systems  india ltd\".\n",
      "   \n",
      "kind regards,\n",
      "csil/pcbpower market     \n",
      "* for further updates and tracking,visit www.pcbpower.com\n",
      " \n"
     ]
    }
   ],
   "source": [
    "import PyPDF2\n",
    "\n",
    "def extract_text_from_pdf(pdf_path):\n",
    "    text = \"\"\n",
    "    with open(pdf_path, \"rb\") as file:\n",
    "        pdf = PyPDF2.PdfReader(file)\n",
    "        num_pages = len(pdf.pages)\n",
    "        for page_num in range(num_pages):\n",
    "            page = pdf.pages[page_num]\n",
    "            text += page.extract_text()\n",
    "    return text\n",
    "\n",
    "# Replace 'your_pdf_file.pdf' with the path to your PDF file\n",
    "pdf_text = extract_text_from_pdf(\"QUOT180804.pdf\")\n",
    "pdf_text = pdf_text.lower()\n",
    "pdf_text=str(pdf_text)\n",
    "print(pdf_text)\n"
   ]
  },
  {
   "cell_type": "code",
   "execution_count": 47,
   "id": "d845f715",
   "metadata": {},
   "outputs": [
    {
     "name": "stdout",
     "output_type": "stream",
     "text": [
      "inq140419\n"
     ]
    }
   ],
   "source": [
    "#offer Number\n",
    "\n",
    "\n",
    "import re\n",
    "\n",
    "pattern = r\"offer no\\s*:\\s*(\\w+)\"\n",
    "\n",
    "offer_number = re.findall(pattern, pdf_text)\n",
    "\n",
    "\n",
    "print(offer_number[0])\n"
   ]
  },
  {
   "cell_type": "code",
   "execution_count": 48,
   "id": "868bab4e",
   "metadata": {},
   "outputs": [
    {
     "name": "stdout",
     "output_type": "stream",
     "text": [
      "board specifications for wireless_motion_detector\n"
     ]
    }
   ],
   "source": [
    "##board specifications\n",
    "\n",
    "import re\n",
    "\n",
    "pattern = r\".*board specifications.*\"\n",
    "\n",
    "board_specifications = re.findall(pattern, pdf_text)\n",
    "\n",
    "print(board_specifications[0])"
   ]
  },
  {
   "cell_type": "code",
   "execution_count": 49,
   "id": "4f5e78a1",
   "metadata": {},
   "outputs": [
    {
     "name": "stdout",
     "output_type": "stream",
     "text": [
      "layers 4 layer\n"
     ]
    }
   ],
   "source": [
    "#Layers\n",
    "\n",
    "import re\n",
    "\n",
    "layer_pattern = r\"layers\\s+\\d+\\s+layer\"\n",
    "\n",
    "layers = re.findall(layer_pattern, pdf_text)\n",
    "\n",
    "print(layers[0])"
   ]
  },
  {
   "cell_type": "code",
   "execution_count": 50,
   "id": "93291d7c",
   "metadata": {},
   "outputs": [
    {
     "name": "stdout",
     "output_type": "stream",
     "text": [
      "pcb thickness 1.6 mm\n"
     ]
    }
   ],
   "source": [
    "#pcb thickness\n",
    "\n",
    "import re\n",
    "\n",
    "pcb_thickness_pattern = r\"pcb thickness\\s+[\\d\\.]+\\s+mm\"\n",
    "\n",
    "pcb_thickness = re.findall(pcb_thickness_pattern, pdf_text)\n",
    "\n",
    "print(pcb_thickness[0])"
   ]
  },
  {
   "cell_type": "code",
   "execution_count": 51,
   "id": "fe27e732",
   "metadata": {},
   "outputs": [
    {
     "name": "stdout",
     "output_type": "stream",
     "text": [
      "material fr4\n"
     ]
    }
   ],
   "source": [
    "#material\n",
    "\n",
    "import re\n",
    "\n",
    "material_pattern = r\"material\\s\\w+\"\n",
    "\n",
    "material = re.findall(material_pattern, pdf_text)\n",
    "\n",
    "print(material[0])"
   ]
  },
  {
   "cell_type": "code",
   "execution_count": 52,
   "id": "c2183dac",
   "metadata": {},
   "outputs": [
    {
     "name": "stdout",
     "output_type": "stream",
     "text": [
      "surface finish hal (sn-pb)\n"
     ]
    }
   ],
   "source": [
    "##surface finish\n",
    "\n",
    "import re\n",
    "\n",
    "surface_finish_pattern = r\"surface finish \\w+ \\(\\w+-\\w+\\)\"\n",
    "\n",
    "surface_finish = re.findall(surface_finish_pattern, pdf_text)\n",
    "\n",
    "print(surface_finish[0])"
   ]
  },
  {
   "cell_type": "code",
   "execution_count": 53,
   "id": "692137e0",
   "metadata": {},
   "outputs": [
    {
     "name": "stdout",
     "output_type": "stream",
     "text": [
      "pcb dimensions 85.00 x 35.00 mm\n"
     ]
    }
   ],
   "source": [
    "##pcb dimensions\n",
    "\n",
    "import re\n",
    "\n",
    "pcb_dimension_pattern = r\"pcb dimensions \\d+\\.\\d+ x \\d+\\.\\d+ mm\"\n",
    "\n",
    "pcb_dimension = re.findall(pcb_dimension_pattern, pdf_text)\n",
    "\n",
    "print(pcb_dimension[0])"
   ]
  },
  {
   "cell_type": "code",
   "execution_count": 54,
   "id": "65e4790f",
   "metadata": {},
   "outputs": [
    {
     "name": "stdout",
     "output_type": "stream",
     "text": [
      "start cu  thickness 17.50 μm\n"
     ]
    }
   ],
   "source": [
    "##start cu  thickness\n",
    "\n",
    "import re\n",
    "\n",
    "start_cu__thickness_pattern = r\"start cu  thickness \\d+\\.\\d+ μm\"\n",
    "\n",
    "start_cu__thickness = re.findall(start_cu__thickness_pattern, pdf_text)\n",
    "\n",
    "print(start_cu__thickness[0])"
   ]
  },
  {
   "cell_type": "code",
   "execution_count": 58,
   "id": "d4ad226e",
   "metadata": {},
   "outputs": [
    {
     "name": "stdout",
     "output_type": "stream",
     "text": [
      "panel dimensions 56.06 X 107.42 mm\n"
     ]
    }
   ],
   "source": [
    "##paneldimensions\n",
    "import re\n",
    "\n",
    "pattern = r\"panel dimensions ([0-9]+(\\.[0-9]+)?) X ([0-9]+(\\.[0-9]+)?) mm\"\n",
    "match = re.search(pattern, pdf_text)\n",
    "if match:\n",
    "    print(match.group())\n",
    "    \n",
    "else:\n",
    "    print(\"No match found\")\n"
   ]
  },
  {
   "cell_type": "code",
   "execution_count": 61,
   "id": "11004fcb",
   "metadata": {},
   "outputs": [
    {
     "name": "stdout",
     "output_type": "stream",
     "text": [
      "pcbs/panel 5\n"
     ]
    }
   ],
   "source": [
    "##pcbs/panel\n",
    "\n",
    "import re\n",
    "pcbs_panel_pattern = r\"pcbs\\/panel \\d*\"\n",
    "\n",
    "pcbs_panel = re.findall(pcbs_panel_pattern, pdf_text)\n",
    "\n",
    "print(pcbs_panel[0])"
   ]
  },
  {
   "cell_type": "code",
   "execution_count": 62,
   "id": "8190232d",
   "metadata": {},
   "outputs": [
    {
     "name": "stdout",
     "output_type": "stream",
     "text": [
      "i/l cu thickness 0.00 μm\n"
     ]
    }
   ],
   "source": [
    "##I/L Cu thickness\n",
    "\n",
    "import re\n",
    "\n",
    "i_l_cu_pattern = r\"i\\/l cu thickness \\d+\\.\\d+ μm\"\n",
    "\n",
    "i_l_cu = re.findall(i_l_cu_pattern, pdf_text)\n",
    "\n",
    "print(i_l_cu[0])\n"
   ]
  },
  {
   "cell_type": "code",
   "execution_count": 73,
   "id": "87688c3c",
   "metadata": {},
   "outputs": [
    {
     "name": "stdout",
     "output_type": "stream",
     "text": [
      "[]\n"
     ]
    }
   ],
   "source": [
    "##finish Cu thickness\n",
    "\n",
    "import re\n",
    "\n",
    "finish_cu_pattern = r\"finish cu thickness \\d+\\.\\d+ μm\"\n",
    "\n",
    "finish_cu_thickness = re.findall(finish_cu_pattern, pdf_text)\n",
    "\n",
    "print(finish_cu_thickness)\n"
   ]
  },
  {
   "cell_type": "code",
   "execution_count": 68,
   "id": "f029122e",
   "metadata": {},
   "outputs": [
    {
     "name": "stdout",
     "output_type": "stream",
     "text": [
      "['top solder  mask green']\n"
     ]
    }
   ],
   "source": [
    "##Top Solder Mask\n",
    "\n",
    "\n",
    "import re\n",
    "\n",
    "top_solder_pattern = r\"top solder  mask\\s+\\w+\"\n",
    "\n",
    "top_solder_mask = re.findall(top_solder_pattern, pdf_text)\n",
    "\n",
    "print(top_solder_mask[0])"
   ]
  },
  {
   "cell_type": "code",
   "execution_count": 17,
   "id": "589bf3d2",
   "metadata": {},
   "outputs": [
    {
     "name": "stdout",
     "output_type": "stream",
     "text": [
      "['bottom solder  maskgreen']\n"
     ]
    }
   ],
   "source": [
    "##Bottom Solder Mask\n",
    "\n",
    "\n",
    "\n",
    "import re\n",
    "\n",
    "bottom_solder_pattern = r\"bottom solder  mask\\w+\"\n",
    "bottom_solder = re.findall(bottom_solder_pattern, pdf_text)\n",
    "print(bottom_solder[0])"
   ]
  },
  {
   "cell_type": "code",
   "execution_count": 18,
   "id": "5d9bfb9d",
   "metadata": {},
   "outputs": [
    {
     "name": "stdout",
     "output_type": "stream",
     "text": [
      "['top legend white']\n"
     ]
    }
   ],
   "source": [
    "## top legend\n",
    "\n",
    "\n",
    "import re\n",
    "\n",
    "top_legend_pattern = r\"top legend\\s+\\w+\"\n",
    "top_legend = re.findall(top_legend_pattern, pdf_text)\n",
    "print(top_legend[0])"
   ]
  },
  {
   "cell_type": "code",
   "execution_count": 75,
   "id": "878d4e2d",
   "metadata": {},
   "outputs": [
    {
     "name": "stdout",
     "output_type": "stream",
     "text": [
      "bottom legend white\n"
     ]
    }
   ],
   "source": [
    "##bottom legend\n",
    "\n",
    "\n",
    "import re\n",
    "\n",
    "bottom_legend_pattern = r\"bottom legend\\s+\\w+\"\n",
    "bottom_legend = re.findall(bottom_legend_pattern , pdf_text)\n",
    "print(bottom_legend[0])"
   ]
  },
  {
   "cell_type": "code",
   "execution_count": 76,
   "id": "f0f67865",
   "metadata": {},
   "outputs": [
    {
     "name": "stdout",
     "output_type": "stream",
     "text": [
      "tg std. tg ( 130-140 °)\n"
     ]
    }
   ],
   "source": [
    "##TG \n",
    "\n",
    "\n",
    "import re\n",
    "TG_pattern = r\"tg std\\. tg \\(\\s*\\d+-\\d+\\s*°\\)\"\n",
    "TG = re.findall(TG_pattern , pdf_text)\n",
    "print(TG[0])"
   ]
  },
  {
   "cell_type": "code",
   "execution_count": 21,
   "id": "d7de770d",
   "metadata": {},
   "outputs": [
    {
     "name": "stdout",
     "output_type": "stream",
     "text": [
      "['layer build-up standard']\n"
     ]
    }
   ],
   "source": [
    "##Layer Build-Up \n",
    "\n",
    "\n",
    "import re\n",
    "layer_buildup_pattern = r\"layer build\\-up\\s\\w+\"\n",
    "layer_buildup = re.findall(layer_buildup_pattern , pdf_text)\n",
    "print(layer_buildup[0])"
   ]
  },
  {
   "cell_type": "code",
   "execution_count": 22,
   "id": "a8b6ad74",
   "metadata": {},
   "outputs": [
    {
     "name": "stdout",
     "output_type": "stream",
     "text": [
      "via fill no\n"
     ]
    }
   ],
   "source": [
    "##via fill\n",
    "import re\n",
    "\n",
    "text = \"\"\"top legend white bottom legend white\n",
    "tg std. tg ( 130-140 °) layer build-up standard\n",
    "via fill no peel off no peel off\n",
    "carbon contacts no carbon contacts ul logo no\"\"\"\n",
    "\n",
    "via_fill_pattern = r\"via fill (yes|no)\"\n",
    "via_fill = re.search(via_fill_pattern, text)\n",
    "\n",
    "if via_fill:\n",
    "    print(via_fill.group())\n",
    "else:\n",
    "    print(\"No match found\")\n"
   ]
  },
  {
   "cell_type": "code",
   "execution_count": 23,
   "id": "59463d95",
   "metadata": {},
   "outputs": [
    {
     "name": "stdout",
     "output_type": "stream",
     "text": [
      "peel off no peel off\n"
     ]
    }
   ],
   "source": [
    "##peeloff\n",
    "import re\n",
    "\n",
    "text = \"\"\"top legend white bottom legend white\n",
    "tg std. tg ( 130-140 °) layer build-up standard\n",
    "via fill no peel off no peel off\n",
    "carbon contacts no carbon contacts ul logo no\"\"\"\n",
    "\n",
    "peel_off_pattern = r\"peel off (yes|no) peel off\"\n",
    "peel_off = re.search(peel_off_pattern, text)\n",
    "\n",
    "if peel_off:\n",
    "    print(peel_off.group())\n",
    "else:\n",
    "    print(\"No match found\")\n"
   ]
  },
  {
   "cell_type": "code",
   "execution_count": 24,
   "id": "598e01aa",
   "metadata": {},
   "outputs": [
    {
     "name": "stdout",
     "output_type": "stream",
     "text": [
      "carbon contacts no carbon contacts\n"
     ]
    }
   ],
   "source": [
    "##carboncontacts\n",
    "import re\n",
    "\n",
    "text = \"\"\"top legend white bottom legend white\n",
    "tg std. tg ( 130-140 °) layer build-up standard\n",
    "via fill no peel off no peel off\n",
    "carbon contacts no carbon contacts ul logo no\"\"\"\n",
    "\n",
    "carbon_contacts_pattern = r\"carbon contacts (yes|no) carbon contacts\"\n",
    "carbon_contacts =  re.search(carbon_contacts_pattern, text)\n",
    "\n",
    "if carbon_contacts:\n",
    "    print(carbon_contacts.group())\n",
    "else:\n",
    "    print(\"No match found\")\n"
   ]
  },
  {
   "cell_type": "code",
   "execution_count": 25,
   "id": "ca80f366",
   "metadata": {},
   "outputs": [
    {
     "name": "stdout",
     "output_type": "stream",
     "text": [
      "ul logo no\n"
     ]
    }
   ],
   "source": [
    "##ul logo\n",
    "import re\n",
    "\n",
    "text = \"\"\"top legend white bottom legend white\n",
    "tg std. tg ( 130-140 °) layer build-up standard\n",
    "via fill no peel off no peel off\n",
    "carbon contacts no carbon contacts ul logo no\"\"\"\n",
    "\n",
    "ul_logo_pattern = r\"ul logo (yes|no)\"\n",
    "ul_logo =  re.search(ul_logo_pattern, text)\n",
    "\n",
    "if ul_logo:\n",
    "    print(ul_logo.group())\n",
    "else:\n",
    "    print(\"No match found\")\n"
   ]
  },
  {
   "cell_type": "code",
   "execution_count": 28,
   "id": "bdc80c68",
   "metadata": {},
   "outputs": [
    {
     "name": "stdout",
     "output_type": "stream",
     "text": [
      "hard gold (gold tabs) 0.00\n"
     ]
    }
   ],
   "source": [
    "##hard gold (gold tabs)\n",
    "\n",
    "import re\n",
    "\n",
    "text = \"\"\" tg std. tg ( 130-140 °) layer build-up standard\n",
    "via fill no peel off no peel off\n",
    "carbon contacts no carbon contacts ul logo no\n",
    "hard gold (gold tabs) 0.00edge connector  au\n",
    "thickness0 µm\n",
    "blind & buried via no impedance  control no\"\"\"\n",
    "\n",
    "hard_gold_pattern = r\"hard gold \\(gold tabs\\) ([0-9]+(\\.[0-9]+)?)\"\n",
    "hard_gold = re.search(hard_gold_pattern, text)\n",
    "if hard_gold:\n",
    "    print(hard_gold.group())\n",
    "else:\n",
    "    print(\"No match found\")"
   ]
  },
  {
   "cell_type": "code",
   "execution_count": 35,
   "id": "1e4708f3",
   "metadata": {},
   "outputs": [
    {
     "name": "stdout",
     "output_type": "stream",
     "text": [
      "edge connector:0 µm\n"
     ]
    }
   ],
   "source": [
    "### edge connector \n",
    "import re\n",
    "\n",
    "text = \"\"\" tg std. tg ( 130-140 °) layer build-up standard\n",
    "via fill no peel off no peel off\n",
    "carbon contacts no carbon contacts ul logo no\n",
    "hard gold (gold tabs) 0edge connector  au\n",
    "thickness0 µm\n",
    "blind & buried via no impedance  control no\"\"\"\n",
    "\n",
    "edge_connector_pattern = r\"edge connector\\s+au\\s+thickness([0-9]+(\\.[0-9]+)?\\s+µm)\"\n",
    "edge_connector = re.search(edge_connector_pattern, text)\n",
    "if edge_connector:\n",
    "    print(\"edge connector:\" + match.group(1))\n",
    "else:\n",
    "    print(\"No match found\")\n",
    "\n"
   ]
  },
  {
   "cell_type": "code",
   "execution_count": 36,
   "id": "ad282055",
   "metadata": {},
   "outputs": [
    {
     "name": "stdout",
     "output_type": "stream",
     "text": [
      "blind & buried via no\n"
     ]
    }
   ],
   "source": [
    "##blind & buried via\n",
    "import re\n",
    "\n",
    "text = \"\"\"hard gold (gold tabs) 0.00\n",
    "tg std. tg ( 130-140 °) layer build-up standard\n",
    "via fill no peel off no peel off\n",
    "carbon contacts no carbon contacts ul logo no\n",
    "hard gold (gold tabs) 0edge connector  au\n",
    "thickness10 µm\n",
    "blind & buried via no impedance  control no\n",
    "finish cu thickness 35.00000 μm\"\"\"\n",
    "\n",
    "blind_buried_via_pattern = r\"blind & buried via (yes|no)\"\n",
    "blind_buried_via =  re.search(blind_buried_via_pattern, text)\n",
    "\n",
    "if blind_buried_via :\n",
    "    print(blind_buried_via .group())\n",
    "else:\n",
    "    print(\"No match found\")\n"
   ]
  },
  {
   "cell_type": "code",
   "execution_count": 37,
   "id": "5b598514",
   "metadata": {},
   "outputs": [
    {
     "name": "stdout",
     "output_type": "stream",
     "text": [
      "impedance  control no\n"
     ]
    }
   ],
   "source": [
    "##impedance  control\n",
    "import re\n",
    "\n",
    "text = \"\"\"hard gold (gold tabs) 0.00\n",
    "tg std. tg ( 130-140 °) layer build-up standard\n",
    "via fill no peel off no peel off\n",
    "carbon contacts no carbon contacts ul logo no\n",
    "hard gold (gold tabs) 0edge connector  au\n",
    "thickness10 µm\n",
    "blind & buried via no impedance  control no\n",
    "finish cu thickness 35.00000 μm\"\"\"\n",
    "\n",
    "impedance_control_pattern = r\"impedance  control (yes|no)\"\n",
    "impedance_control =  re.search(impedance_control_pattern, text)\n",
    "\n",
    "if impedance_control :\n",
    "    print(impedance_control .group())\n",
    "else:\n",
    "    print(\"No match found\")\n"
   ]
  },
  {
   "cell_type": "code",
   "execution_count": 39,
   "id": "a2c0570e",
   "metadata": {},
   "outputs": [
    {
     "name": "stdout",
     "output_type": "stream",
     "text": [
      "electrical  testing yes\n"
     ]
    }
   ],
   "source": [
    "##electrical  testing\n",
    "\n",
    "text =\"\"\"carbon contacts no carbon contacts ul logo no\n",
    "hard gold (gold tabs) 0edge connector  au\n",
    "thickness0 µm\n",
    "blind & buried via no impedance  control no\n",
    "electrical  testing yes tolerances refer www.pcbpower.com\n",
    "serialization for pcbs no round edge platting no\n",
    "special buildup no bevelling no\n",
    "print et ok yes\"\"\"\n",
    "\n",
    "electrical_testing_pattern = r\"electrical  testing (yes|no)\"\n",
    "electrical_testing =  re.search(electrical_testing_pattern, text)\n",
    "\n",
    "if electrical_testing :\n",
    "    print(electrical_testing .group())\n",
    "else:\n",
    "    print(\"No match found\")\n"
   ]
  },
  {
   "cell_type": "code",
   "execution_count": 42,
   "id": "668f1904",
   "metadata": {},
   "outputs": [
    {
     "name": "stdout",
     "output_type": "stream",
     "text": [
      "serialization for pcbs no\n"
     ]
    }
   ],
   "source": [
    "###serialization for pcbs \n",
    "text =\"\"\"carbon contacts no carbon contacts ul logo no\n",
    "hard gold (gold tabs) 0edge connector  au\n",
    "thickness0 µm\n",
    "blind & buried via no impedance  control no\n",
    "electrical  testing yes tolerances refer www.pcbpower.com\n",
    "serialization for pcbs no round edge platting no\n",
    "special buildup no bevelling no\n",
    "print et ok yes\"\"\"\n",
    "\n",
    "serialization_for_pcbs_pattern = r\"serialization for pcbs (yes|no)\"\n",
    "serialization_for_pcbs =  re.search(serialization_for_pcbs_pattern, text)\n",
    "\n",
    "if serialization_for_pcbs :\n",
    "    print(serialization_for_pcbs .group())\n",
    "else:\n",
    "    print(\"No match found\")\n"
   ]
  },
  {
   "cell_type": "code",
   "execution_count": 43,
   "id": "5eb87047",
   "metadata": {},
   "outputs": [
    {
     "name": "stdout",
     "output_type": "stream",
     "text": [
      "round edge platting no\n"
     ]
    }
   ],
   "source": [
    "###round edge platting\n",
    "text =\"\"\"carbon contacts no carbon contacts ul logo no\n",
    "hard gold (gold tabs) 0edge connector  au\n",
    "thickness0 µm\n",
    "blind & buried via no impedance  control no\n",
    "electrical  testing yes tolerances refer www.pcbpower.com\n",
    "serialization for pcbs no round edge platting no\n",
    "special buildup no bevelling no\n",
    "print et ok yes\"\"\"\n",
    "\n",
    "round_edge_platting_pattern = r\"round edge platting (yes|no)\"\n",
    "round_edge_platting =  re.search(round_edge_platting_pattern, text)\n",
    "\n",
    "if round_edge_platting:\n",
    "    print(round_edge_platting.group())\n",
    "else:\n",
    "    print(\"No match found\")\n"
   ]
  },
  {
   "cell_type": "code",
   "execution_count": 44,
   "id": "fd17bb45",
   "metadata": {},
   "outputs": [
    {
     "name": "stdout",
     "output_type": "stream",
     "text": [
      "special buildup no\n"
     ]
    }
   ],
   "source": [
    "###special buildup\n",
    "text =\"\"\"carbon contacts no carbon contacts ul logo no\n",
    "hard gold (gold tabs) 0edge connector  au\n",
    "thickness0 µm\n",
    "blind & buried via no impedance  control no\n",
    "electrical  testing yes tolerances refer www.pcbpower.com\n",
    "serialization for pcbs no round edge platting no\n",
    "special buildup no bevelling no\n",
    "print et ok yes\"\"\"\n",
    "\n",
    "special_buildup_pattern = r\"special buildup (yes|no)\"\n",
    "special_buildup =  re.search(special_buildup_pattern, text)\n",
    "\n",
    "if special_buildup:\n",
    "    print(special_buildup.group())\n",
    "else:\n",
    "    print(\"No match found\")\n"
   ]
  },
  {
   "cell_type": "code",
   "execution_count": 45,
   "id": "27fd4ed8",
   "metadata": {},
   "outputs": [
    {
     "name": "stdout",
     "output_type": "stream",
     "text": [
      "bevelling no\n"
     ]
    }
   ],
   "source": [
    "###bevelling\n",
    "text =\"\"\"carbon contacts no carbon contacts ul logo no\n",
    "hard gold (gold tabs) 0edge connector  au\n",
    "thickness0 µm\n",
    "blind & buried via no impedance  control no\n",
    "electrical  testing yes tolerances refer www.pcbpower.com\n",
    "serialization for pcbs no round edge platting no\n",
    "special buildup no bevelling no\n",
    "print et ok yes\"\"\"\n",
    "\n",
    "bevelling_pattern = r\"bevelling (yes|no)\"\n",
    "bevelling =  re.search(bevelling_pattern, text)\n",
    "\n",
    "if bevelling:\n",
    "    print(bevelling.group())\n",
    "else:\n",
    "    print(\"No match found\")\n"
   ]
  },
  {
   "cell_type": "code",
   "execution_count": 46,
   "id": "6af3dd79",
   "metadata": {},
   "outputs": [
    {
     "name": "stdout",
     "output_type": "stream",
     "text": [
      "print et ok yes\n"
     ]
    }
   ],
   "source": [
    "###print et\n",
    "text =\"\"\"carbon contacts no carbon contacts ul logo no\n",
    "hard gold (gold tabs) 0edge connector  au\n",
    "thickness0 µm\n",
    "blind & buried via no impedance  control no\n",
    "electrical  testing yes tolerances refer www.pcbpower.com\n",
    "serialization for pcbs no round edge platting no\n",
    "special buildup no bevelling no\n",
    "print et ok yes\"\"\"\n",
    "\n",
    "print_et_pattern = r\"print et ok (yes|no)\"\n",
    "print_et =  re.search(print_et_pattern, text)\n",
    "\n",
    "if print_et:\n",
    "    print(print_et.group())\n",
    "else:\n",
    "    print(\"No match found\")\n"
   ]
  },
  {
   "cell_type": "code",
   "execution_count": null,
   "id": "311fe822",
   "metadata": {},
   "outputs": [],
   "source": []
  }
 ],
 "metadata": {
  "kernelspec": {
   "display_name": "Python 3 (ipykernel)",
   "language": "python",
   "name": "python3"
  },
  "language_info": {
   "codemirror_mode": {
    "name": "ipython",
    "version": 3
   },
   "file_extension": ".py",
   "mimetype": "text/x-python",
   "name": "python",
   "nbconvert_exporter": "python",
   "pygments_lexer": "ipython3",
   "version": "3.10.9"
  }
 },
 "nbformat": 4,
 "nbformat_minor": 5
}
