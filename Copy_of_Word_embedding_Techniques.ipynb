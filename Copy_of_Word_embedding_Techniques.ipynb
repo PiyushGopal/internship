{
  "cells": [
    {
      "cell_type": "markdown",
      "metadata": {
        "id": "eHNf7J680XF-"
      },
      "source": [
        "### Word Embedding Techniques using Embedding Layer in Keras"
      ]
    },
    {
      "cell_type": "code",
      "execution_count": null,
      "metadata": {
        "id": "PEsK0_yl0XGB"
      },
      "outputs": [],
      "source": [
        "### Libraries USed Tensorflow> 2.0  and keras"
      ]
    },
    {
      "cell_type": "code",
      "execution_count": null,
      "metadata": {
        "colab": {
          "base_uri": "https://localhost:8080/"
        },
        "id": "pslw1Ya90XGC",
        "outputId": "e545aebe-ffe6-41a3-ff9f-0b396f9f119b"
      },
      "outputs": [
        {
          "output_type": "stream",
          "name": "stdout",
          "text": [
            "Collecting tensorflow-gpu\n",
            "  Downloading tensorflow-gpu-2.12.0.tar.gz (2.6 kB)\n",
            "  \u001b[1;31merror\u001b[0m: \u001b[1msubprocess-exited-with-error\u001b[0m\n",
            "  \n",
            "  \u001b[31m×\u001b[0m \u001b[32mpython setup.py egg_info\u001b[0m did not run successfully.\n",
            "  \u001b[31m│\u001b[0m exit code: \u001b[1;36m1\u001b[0m\n",
            "  \u001b[31m╰─>\u001b[0m See above for output.\n",
            "  \n",
            "  \u001b[1;35mnote\u001b[0m: This error originates from a subprocess, and is likely not a problem with pip.\n",
            "  Preparing metadata (setup.py) ... \u001b[?25l\u001b[?25herror\n",
            "\u001b[1;31merror\u001b[0m: \u001b[1mmetadata-generation-failed\u001b[0m\n",
            "\n",
            "\u001b[31m×\u001b[0m Encountered error while generating package metadata.\n",
            "\u001b[31m╰─>\u001b[0m See above for output.\n",
            "\n",
            "\u001b[1;35mnote\u001b[0m: This is an issue with the package mentioned above, not pip.\n",
            "\u001b[1;36mhint\u001b[0m: See above for details.\n"
          ]
        }
      ],
      "source": [
        "!pip install tensorflow-gpu"
      ]
    },
    {
      "cell_type": "code",
      "source": [
        "import tensorflow as tf\n",
        "print(tf.__version__)"
      ],
      "metadata": {
        "colab": {
          "base_uri": "https://localhost:8080/"
        },
        "id": "yZ5hceiMAX7n",
        "outputId": "25dd64cb-9e50-47f7-9150-3194462f5a7a"
      },
      "execution_count": null,
      "outputs": [
        {
          "output_type": "stream",
          "name": "stdout",
          "text": [
            "2.12.0\n"
          ]
        }
      ]
    },
    {
      "cell_type": "code",
      "execution_count": null,
      "metadata": {
        "id": "k4nKifUl0XGC"
      },
      "outputs": [],
      "source": [
        "##tensorflow >2.0\n",
        "from tensorflow.keras.preprocessing.text import one_hot"
      ]
    },
    {
      "cell_type": "code",
      "source": [],
      "metadata": {
        "id": "hADTdqZTAUfS"
      },
      "execution_count": null,
      "outputs": []
    },
    {
      "cell_type": "code",
      "execution_count": null,
      "metadata": {
        "id": "Fu9PuYeu0XGD"
      },
      "outputs": [],
      "source": [
        "### sentences\n",
        "sent=[  'the glass of milk',\n",
        "     'the glass of juice',\n",
        "     'the cup of tea',\n",
        "    'I am a good boy',\n",
        "     'I am a good developer',\n",
        "     'understand the meaning of words',\n",
        "     'your videos are good']"
      ]
    },
    {
      "cell_type": "code",
      "execution_count": null,
      "metadata": {
        "colab": {
          "base_uri": "https://localhost:8080/"
        },
        "id": "x5d1D3_20XGD",
        "outputId": "a311fcf9-655a-4770-cceb-9762d3f63333"
      },
      "outputs": [
        {
          "output_type": "execute_result",
          "data": {
            "text/plain": [
              "['the glass of milk',\n",
              " 'the glass of juice',\n",
              " 'the cup of tea',\n",
              " 'I am a good boy',\n",
              " 'I am a good developer',\n",
              " 'understand the meaning of words',\n",
              " 'your videos are good']"
            ]
          },
          "metadata": {},
          "execution_count": 6
        }
      ],
      "source": [
        "sent"
      ]
    },
    {
      "cell_type": "code",
      "execution_count": null,
      "metadata": {
        "id": "tjnXIn3B0XGE"
      },
      "outputs": [],
      "source": [
        "### Vocabulary size\n",
        "voc_size=500"
      ]
    },
    {
      "cell_type": "markdown",
      "metadata": {
        "id": "-vQOdeKk0XGE"
      },
      "source": [
        "#### One Hot Representation"
      ]
    },
    {
      "cell_type": "code",
      "execution_count": null,
      "metadata": {
        "colab": {
          "base_uri": "https://localhost:8080/"
        },
        "id": "gojfZpAW0XGE",
        "outputId": "e454fa7d-1178-422f-d37b-9ccf9b4b5eba"
      },
      "outputs": [
        {
          "output_type": "stream",
          "name": "stdout",
          "text": [
            "[[435, 268, 143, 404], [435, 268, 143, 293], [435, 96, 143, 471], [467, 7, 402, 25, 454], [467, 7, 402, 25, 140], [399, 435, 56, 143, 102], [172, 136, 24, 25]]\n"
          ]
        }
      ],
      "source": [
        "onehot_repr=[one_hot(words,voc_size)for words in sent]\n",
        "print(onehot_repr)"
      ]
    },
    {
      "cell_type": "markdown",
      "metadata": {
        "id": "eYG267x40XGF"
      },
      "source": [
        "### Word Embedding Represntation"
      ]
    },
    {
      "cell_type": "code",
      "execution_count": null,
      "metadata": {
        "id": "wpqPm0tb0XGF"
      },
      "outputs": [],
      "source": [
        "from tensorflow.keras.layers import Embedding\n",
        "from tensorflow.keras.preprocessing.sequence import pad_sequences\n",
        "from tensorflow.keras.models import Sequential"
      ]
    },
    {
      "cell_type": "code",
      "execution_count": null,
      "metadata": {
        "id": "Rov3GTM00XGG"
      },
      "outputs": [],
      "source": [
        "import numpy as np"
      ]
    },
    {
      "cell_type": "code",
      "execution_count": null,
      "metadata": {
        "colab": {
          "base_uri": "https://localhost:8080/"
        },
        "id": "8fQLPw6p0XGG",
        "outputId": "e61fb034-8a2d-4fc0-990d-5e8806848b64"
      },
      "outputs": [
        {
          "output_type": "stream",
          "name": "stdout",
          "text": [
            "[[  0   0   0   0 435 268 143 404]\n",
            " [  0   0   0   0 435 268 143 293]\n",
            " [  0   0   0   0 435  96 143 471]\n",
            " [  0   0   0 467   7 402  25 454]\n",
            " [  0   0   0 467   7 402  25 140]\n",
            " [  0   0   0 399 435  56 143 102]\n",
            " [  0   0   0   0 172 136  24  25]]\n"
          ]
        }
      ],
      "source": [
        "## pre padding\n",
        "sent_length=8\n",
        "embedded_docs=pad_sequences(onehot_repr,padding='pre',maxlen=sent_length)\n",
        "print(embedded_docs)"
      ]
    },
    {
      "cell_type": "code",
      "execution_count": null,
      "metadata": {
        "id": "yjQqBYac0XGG"
      },
      "outputs": [],
      "source": [
        "## 10 feature dimesnions\n",
        "dim=10\n"
      ]
    },
    {
      "cell_type": "code",
      "execution_count": null,
      "metadata": {
        "id": "ozC-TXrt0XGG"
      },
      "outputs": [],
      "source": [
        "model=Sequential()\n",
        "model.add(Embedding(voc_size,10,input_length=sent_length))\n",
        "model.compile('adam','mse')"
      ]
    },
    {
      "cell_type": "code",
      "execution_count": null,
      "metadata": {
        "colab": {
          "base_uri": "https://localhost:8080/"
        },
        "id": "tMNvq-Ji0XGH",
        "outputId": "e8cd654a-1fb8-42b3-c184-413d6468a628"
      },
      "outputs": [
        {
          "output_type": "stream",
          "name": "stdout",
          "text": [
            "Model: \"sequential\"\n",
            "_________________________________________________________________\n",
            " Layer (type)                Output Shape              Param #   \n",
            "=================================================================\n",
            " embedding (Embedding)       (None, 8, 10)             5000      \n",
            "                                                                 \n",
            "=================================================================\n",
            "Total params: 5,000\n",
            "Trainable params: 5,000\n",
            "Non-trainable params: 0\n",
            "_________________________________________________________________\n"
          ]
        }
      ],
      "source": [
        "model.summary()"
      ]
    },
    {
      "cell_type": "code",
      "source": [
        "##'the glass of milk',\n",
        "embedded_docs[0]"
      ],
      "metadata": {
        "colab": {
          "base_uri": "https://localhost:8080/"
        },
        "id": "FC4Ess_FEcb3",
        "outputId": "c6d2e8db-a1b1-40f2-a29b-4fc3cf44c593"
      },
      "execution_count": null,
      "outputs": [
        {
          "output_type": "execute_result",
          "data": {
            "text/plain": [
              "array([  0,   0,   0,   0, 435, 268, 143, 404], dtype=int32)"
            ]
          },
          "metadata": {},
          "execution_count": 15
        }
      ]
    },
    {
      "cell_type": "code",
      "source": [
        "model.predict(embedded_docs[0])"
      ],
      "metadata": {
        "colab": {
          "base_uri": "https://localhost:8080/"
        },
        "id": "bRqEvMBYEZUS",
        "outputId": "09b9822c-a23d-4c79-fddc-b3cd43802760"
      },
      "execution_count": null,
      "outputs": [
        {
          "output_type": "stream",
          "name": "stdout",
          "text": [
            "1/1 [==============================] - 0s 161ms/step\n"
          ]
        },
        {
          "output_type": "execute_result",
          "data": {
            "text/plain": [
              "array([[ 0.01488515, -0.00981277,  0.00469238, -0.04055492, -0.02749711,\n",
              "        -0.03418574, -0.02973739,  0.04330026,  0.04221939,  0.0288546 ],\n",
              "       [ 0.01488515, -0.00981277,  0.00469238, -0.04055492, -0.02749711,\n",
              "        -0.03418574, -0.02973739,  0.04330026,  0.04221939,  0.0288546 ],\n",
              "       [ 0.01488515, -0.00981277,  0.00469238, -0.04055492, -0.02749711,\n",
              "        -0.03418574, -0.02973739,  0.04330026,  0.04221939,  0.0288546 ],\n",
              "       [ 0.01488515, -0.00981277,  0.00469238, -0.04055492, -0.02749711,\n",
              "        -0.03418574, -0.02973739,  0.04330026,  0.04221939,  0.0288546 ],\n",
              "       [-0.01364316, -0.02296036,  0.04643604, -0.02814175,  0.00422627,\n",
              "         0.02039664, -0.00160687,  0.04866246, -0.04543972, -0.0340877 ],\n",
              "       [ 0.04491904,  0.02892694,  0.0107829 , -0.00968527, -0.01944584,\n",
              "        -0.0332089 , -0.00692285,  0.00106732,  0.02176644, -0.02065235],\n",
              "       [-0.03690177, -0.03604557, -0.02662674, -0.043931  ,  0.00063968,\n",
              "        -0.03365912, -0.01822188,  0.03996331,  0.04276402,  0.03242205],\n",
              "       [-0.02240217, -0.0327435 ,  0.03530127, -0.02347015, -0.01018832,\n",
              "        -0.0041074 , -0.04945252,  0.01091231, -0.01935207,  0.02485499]],\n",
              "      dtype=float32)"
            ]
          },
          "metadata": {},
          "execution_count": 16
        }
      ]
    },
    {
      "cell_type": "code",
      "execution_count": null,
      "metadata": {
        "colab": {
          "base_uri": "https://localhost:8080/"
        },
        "id": "kzKP69gx0XGH",
        "outputId": "309d5f05-1c27-4d7f-abb2-6018c63f8097"
      },
      "outputs": [
        {
          "output_type": "stream",
          "name": "stdout",
          "text": [
            "1/1 [==============================] - 0s 58ms/step\n",
            "[[[ 0.01488515 -0.00981277  0.00469238 -0.04055492 -0.02749711\n",
            "   -0.03418574 -0.02973739  0.04330026  0.04221939  0.0288546 ]\n",
            "  [ 0.01488515 -0.00981277  0.00469238 -0.04055492 -0.02749711\n",
            "   -0.03418574 -0.02973739  0.04330026  0.04221939  0.0288546 ]\n",
            "  [ 0.01488515 -0.00981277  0.00469238 -0.04055492 -0.02749711\n",
            "   -0.03418574 -0.02973739  0.04330026  0.04221939  0.0288546 ]\n",
            "  [ 0.01488515 -0.00981277  0.00469238 -0.04055492 -0.02749711\n",
            "   -0.03418574 -0.02973739  0.04330026  0.04221939  0.0288546 ]\n",
            "  [-0.01364316 -0.02296036  0.04643604 -0.02814175  0.00422627\n",
            "    0.02039664 -0.00160687  0.04866246 -0.04543972 -0.0340877 ]\n",
            "  [ 0.04491904  0.02892694  0.0107829  -0.00968527 -0.01944584\n",
            "   -0.0332089  -0.00692285  0.00106732  0.02176644 -0.02065235]\n",
            "  [-0.03690177 -0.03604557 -0.02662674 -0.043931    0.00063968\n",
            "   -0.03365912 -0.01822188  0.03996331  0.04276402  0.03242205]\n",
            "  [-0.02240217 -0.0327435   0.03530127 -0.02347015 -0.01018832\n",
            "   -0.0041074  -0.04945252  0.01091231 -0.01935207  0.02485499]]\n",
            "\n",
            " [[ 0.01488515 -0.00981277  0.00469238 -0.04055492 -0.02749711\n",
            "   -0.03418574 -0.02973739  0.04330026  0.04221939  0.0288546 ]\n",
            "  [ 0.01488515 -0.00981277  0.00469238 -0.04055492 -0.02749711\n",
            "   -0.03418574 -0.02973739  0.04330026  0.04221939  0.0288546 ]\n",
            "  [ 0.01488515 -0.00981277  0.00469238 -0.04055492 -0.02749711\n",
            "   -0.03418574 -0.02973739  0.04330026  0.04221939  0.0288546 ]\n",
            "  [ 0.01488515 -0.00981277  0.00469238 -0.04055492 -0.02749711\n",
            "   -0.03418574 -0.02973739  0.04330026  0.04221939  0.0288546 ]\n",
            "  [-0.01364316 -0.02296036  0.04643604 -0.02814175  0.00422627\n",
            "    0.02039664 -0.00160687  0.04866246 -0.04543972 -0.0340877 ]\n",
            "  [ 0.04491904  0.02892694  0.0107829  -0.00968527 -0.01944584\n",
            "   -0.0332089  -0.00692285  0.00106732  0.02176644 -0.02065235]\n",
            "  [-0.03690177 -0.03604557 -0.02662674 -0.043931    0.00063968\n",
            "   -0.03365912 -0.01822188  0.03996331  0.04276402  0.03242205]\n",
            "  [-0.0368518  -0.04128234 -0.01865383  0.02241514  0.03713783\n",
            "    0.02465924 -0.01207786  0.03049408  0.04938468 -0.03149338]]\n",
            "\n",
            " [[ 0.01488515 -0.00981277  0.00469238 -0.04055492 -0.02749711\n",
            "   -0.03418574 -0.02973739  0.04330026  0.04221939  0.0288546 ]\n",
            "  [ 0.01488515 -0.00981277  0.00469238 -0.04055492 -0.02749711\n",
            "   -0.03418574 -0.02973739  0.04330026  0.04221939  0.0288546 ]\n",
            "  [ 0.01488515 -0.00981277  0.00469238 -0.04055492 -0.02749711\n",
            "   -0.03418574 -0.02973739  0.04330026  0.04221939  0.0288546 ]\n",
            "  [ 0.01488515 -0.00981277  0.00469238 -0.04055492 -0.02749711\n",
            "   -0.03418574 -0.02973739  0.04330026  0.04221939  0.0288546 ]\n",
            "  [-0.01364316 -0.02296036  0.04643604 -0.02814175  0.00422627\n",
            "    0.02039664 -0.00160687  0.04866246 -0.04543972 -0.0340877 ]\n",
            "  [ 0.04639539 -0.01243063  0.03748857  0.04417921 -0.01361763\n",
            "    0.0490471  -0.04902607 -0.03320163  0.03228937 -0.04084485]\n",
            "  [-0.03690177 -0.03604557 -0.02662674 -0.043931    0.00063968\n",
            "   -0.03365912 -0.01822188  0.03996331  0.04276402  0.03242205]\n",
            "  [-0.01232947 -0.03265122  0.02248624 -0.00901495  0.04819136\n",
            "    0.03687714  0.03877456  0.03244014 -0.00369326  0.02929625]]\n",
            "\n",
            " [[ 0.01488515 -0.00981277  0.00469238 -0.04055492 -0.02749711\n",
            "   -0.03418574 -0.02973739  0.04330026  0.04221939  0.0288546 ]\n",
            "  [ 0.01488515 -0.00981277  0.00469238 -0.04055492 -0.02749711\n",
            "   -0.03418574 -0.02973739  0.04330026  0.04221939  0.0288546 ]\n",
            "  [ 0.01488515 -0.00981277  0.00469238 -0.04055492 -0.02749711\n",
            "   -0.03418574 -0.02973739  0.04330026  0.04221939  0.0288546 ]\n",
            "  [-0.01913673  0.01093633 -0.02051059  0.01697871  0.02318354\n",
            "    0.02747425  0.01023019  0.03702294 -0.00518514 -0.02520486]\n",
            "  [ 0.00518463 -0.02018133 -0.02094983  0.00309261 -0.01880324\n",
            "   -0.00896778 -0.04047609 -0.02860417 -0.03520982  0.00554919]\n",
            "  [ 0.04147199 -0.03083417  0.02045312  0.035156   -0.03546432\n",
            "   -0.02709078  0.04950359  0.02855654  0.01600275 -0.03656818]\n",
            "  [-0.00522798 -0.04710415 -0.0198741  -0.0323014  -0.04394534\n",
            "   -0.03471311  0.02977041 -0.0123001  -0.01930655  0.02364708]\n",
            "  [-0.01018844  0.00688971  0.03551079 -0.03591554  0.03321557\n",
            "    0.01301687  0.02948127  0.00814031 -0.04592003  0.01336974]]\n",
            "\n",
            " [[ 0.01488515 -0.00981277  0.00469238 -0.04055492 -0.02749711\n",
            "   -0.03418574 -0.02973739  0.04330026  0.04221939  0.0288546 ]\n",
            "  [ 0.01488515 -0.00981277  0.00469238 -0.04055492 -0.02749711\n",
            "   -0.03418574 -0.02973739  0.04330026  0.04221939  0.0288546 ]\n",
            "  [ 0.01488515 -0.00981277  0.00469238 -0.04055492 -0.02749711\n",
            "   -0.03418574 -0.02973739  0.04330026  0.04221939  0.0288546 ]\n",
            "  [-0.01913673  0.01093633 -0.02051059  0.01697871  0.02318354\n",
            "    0.02747425  0.01023019  0.03702294 -0.00518514 -0.02520486]\n",
            "  [ 0.00518463 -0.02018133 -0.02094983  0.00309261 -0.01880324\n",
            "   -0.00896778 -0.04047609 -0.02860417 -0.03520982  0.00554919]\n",
            "  [ 0.04147199 -0.03083417  0.02045312  0.035156   -0.03546432\n",
            "   -0.02709078  0.04950359  0.02855654  0.01600275 -0.03656818]\n",
            "  [-0.00522798 -0.04710415 -0.0198741  -0.0323014  -0.04394534\n",
            "   -0.03471311  0.02977041 -0.0123001  -0.01930655  0.02364708]\n",
            "  [ 0.03093771  0.00864773 -0.00735363 -0.01933959  0.04513843\n",
            "    0.01674346  0.0466163  -0.01694788 -0.04256258  0.0448831 ]]\n",
            "\n",
            " [[ 0.01488515 -0.00981277  0.00469238 -0.04055492 -0.02749711\n",
            "   -0.03418574 -0.02973739  0.04330026  0.04221939  0.0288546 ]\n",
            "  [ 0.01488515 -0.00981277  0.00469238 -0.04055492 -0.02749711\n",
            "   -0.03418574 -0.02973739  0.04330026  0.04221939  0.0288546 ]\n",
            "  [ 0.01488515 -0.00981277  0.00469238 -0.04055492 -0.02749711\n",
            "   -0.03418574 -0.02973739  0.04330026  0.04221939  0.0288546 ]\n",
            "  [ 0.04501964  0.00608417  0.00463457 -0.02783003  0.02255562\n",
            "    0.01501678  0.04270203  0.02649691 -0.01206075 -0.04745389]\n",
            "  [-0.01364316 -0.02296036  0.04643604 -0.02814175  0.00422627\n",
            "    0.02039664 -0.00160687  0.04866246 -0.04543972 -0.0340877 ]\n",
            "  [ 0.03585303  0.03334682  0.02256135 -0.02369793  0.04236956\n",
            "   -0.04012349 -0.02115482  0.03631792  0.03990084  0.00191294]\n",
            "  [-0.03690177 -0.03604557 -0.02662674 -0.043931    0.00063968\n",
            "   -0.03365912 -0.01822188  0.03996331  0.04276402  0.03242205]\n",
            "  [ 0.02169359  0.02323476  0.0045612  -0.00460223  0.04449875\n",
            "    0.01436898  0.04096237 -0.02325614 -0.04588734 -0.01673884]]\n",
            "\n",
            " [[ 0.01488515 -0.00981277  0.00469238 -0.04055492 -0.02749711\n",
            "   -0.03418574 -0.02973739  0.04330026  0.04221939  0.0288546 ]\n",
            "  [ 0.01488515 -0.00981277  0.00469238 -0.04055492 -0.02749711\n",
            "   -0.03418574 -0.02973739  0.04330026  0.04221939  0.0288546 ]\n",
            "  [ 0.01488515 -0.00981277  0.00469238 -0.04055492 -0.02749711\n",
            "   -0.03418574 -0.02973739  0.04330026  0.04221939  0.0288546 ]\n",
            "  [ 0.01488515 -0.00981277  0.00469238 -0.04055492 -0.02749711\n",
            "   -0.03418574 -0.02973739  0.04330026  0.04221939  0.0288546 ]\n",
            "  [ 0.01653334 -0.00308467  0.00257909  0.04851941  0.00390796\n",
            "    0.01477942 -0.02282687 -0.04647695  0.00015235 -0.01106838]\n",
            "  [-0.04445757 -0.01246782  0.0423893   0.02301503  0.04341943\n",
            "    0.00904997  0.04425502 -0.02001863 -0.01490552 -0.033971  ]\n",
            "  [ 0.02908094  0.04331962  0.03426894  0.00769584 -0.00101887\n",
            "   -0.02832557  0.03475418 -0.03655745  0.03022556  0.02216668]\n",
            "  [-0.00522798 -0.04710415 -0.0198741  -0.0323014  -0.04394534\n",
            "   -0.03471311  0.02977041 -0.0123001  -0.01930655  0.02364708]]]\n"
          ]
        }
      ],
      "source": [
        "print(model.predict(embedded_docs))"
      ]
    },
    {
      "cell_type": "code",
      "execution_count": null,
      "metadata": {
        "id": "JuUxfk7d0XGH",
        "outputId": "d3979076-e890-485a-c7fd-65da041a432e",
        "colab": {
          "base_uri": "https://localhost:8080/"
        }
      },
      "outputs": [
        {
          "output_type": "execute_result",
          "data": {
            "text/plain": [
              "array([  0,   0,   0,   0, 435, 268, 143, 404], dtype=int32)"
            ]
          },
          "metadata": {},
          "execution_count": 18
        }
      ],
      "source": [
        "embedded_docs[0]"
      ]
    },
    {
      "cell_type": "code",
      "execution_count": null,
      "metadata": {
        "id": "6JJ_zD0u0XGH",
        "outputId": "d0483096-0fd8-436a-b3e7-c8b95e18c575",
        "colab": {
          "base_uri": "https://localhost:8080/"
        }
      },
      "outputs": [
        {
          "output_type": "stream",
          "name": "stdout",
          "text": [
            "1/1 [==============================] - 0s 26ms/step\n",
            "[[ 0.01488515 -0.00981277  0.00469238 -0.04055492 -0.02749711 -0.03418574\n",
            "  -0.02973739  0.04330026  0.04221939  0.0288546 ]\n",
            " [ 0.01488515 -0.00981277  0.00469238 -0.04055492 -0.02749711 -0.03418574\n",
            "  -0.02973739  0.04330026  0.04221939  0.0288546 ]\n",
            " [ 0.01488515 -0.00981277  0.00469238 -0.04055492 -0.02749711 -0.03418574\n",
            "  -0.02973739  0.04330026  0.04221939  0.0288546 ]\n",
            " [ 0.01488515 -0.00981277  0.00469238 -0.04055492 -0.02749711 -0.03418574\n",
            "  -0.02973739  0.04330026  0.04221939  0.0288546 ]\n",
            " [-0.01364316 -0.02296036  0.04643604 -0.02814175  0.00422627  0.02039664\n",
            "  -0.00160687  0.04866246 -0.04543972 -0.0340877 ]\n",
            " [ 0.04491904  0.02892694  0.0107829  -0.00968527 -0.01944584 -0.0332089\n",
            "  -0.00692285  0.00106732  0.02176644 -0.02065235]\n",
            " [-0.03690177 -0.03604557 -0.02662674 -0.043931    0.00063968 -0.03365912\n",
            "  -0.01822188  0.03996331  0.04276402  0.03242205]\n",
            " [-0.02240217 -0.0327435   0.03530127 -0.02347015 -0.01018832 -0.0041074\n",
            "  -0.04945252  0.01091231 -0.01935207  0.02485499]]\n"
          ]
        }
      ],
      "source": [
        "print(model.predict(embedded_docs)[0])"
      ]
    },
    {
      "cell_type": "code",
      "execution_count": null,
      "metadata": {
        "id": "8OMu3iAz0XGH"
      },
      "outputs": [],
      "source": [
        "### Assignment\n",
        "\n",
        "sent=[\"The world is a better place\",\n",
        "      \"Marvel series is my favourite movie\",\n",
        "      \"I like DC movies\",\n",
        "      \"the cat is eating the food\",\n",
        "      \"Tom and Jerry is my favourite movie\",\n",
        "      \"Python is my favourite programming language\"\n",
        "      ]"
      ]
    },
    {
      "cell_type": "code",
      "source": [
        "onehot_repr=[one_hot(words,voc_size)for words in sent]\n",
        "print(onehot_repr)"
      ],
      "metadata": {
        "colab": {
          "base_uri": "https://localhost:8080/"
        },
        "id": "m1e8nhQQStP1",
        "outputId": "07c9aa5a-8b41-4749-ae37-11ab6bc8b43d"
      },
      "execution_count": null,
      "outputs": [
        {
          "output_type": "stream",
          "name": "stdout",
          "text": [
            "[[435, 279, 424, 402, 34, 49], [316, 459, 424, 286, 280, 328], [467, 42, 255, 79], [435, 65, 424, 187, 435, 314], [19, 262, 481, 424, 286, 280, 328], [196, 424, 286, 280, 357, 145]]\n"
          ]
        }
      ]
    },
    {
      "cell_type": "code",
      "source": [
        "from tensorflow.keras.layers import Embedding\n",
        "from tensorflow.keras.preprocessing.sequence import pad_sequences\n",
        "from tensorflow.keras.models import Sequential"
      ],
      "metadata": {
        "id": "c5N463pyTVGg"
      },
      "execution_count": null,
      "outputs": []
    },
    {
      "cell_type": "code",
      "source": [
        "import numpy as np"
      ],
      "metadata": {
        "id": "MZGmPVqjTegD"
      },
      "execution_count": null,
      "outputs": []
    },
    {
      "cell_type": "code",
      "source": [
        "## pre padding\n",
        "sent_length=8\n",
        "embedded_docs=pad_sequences(onehot_repr,padding='pre',maxlen=sent_length)\n",
        "print(embedded_docs)"
      ],
      "metadata": {
        "colab": {
          "base_uri": "https://localhost:8080/"
        },
        "id": "fZFMIJf7TiAX",
        "outputId": "2099a6c6-96e3-4d18-9874-28775c298c73"
      },
      "execution_count": null,
      "outputs": [
        {
          "output_type": "stream",
          "name": "stdout",
          "text": [
            "[[  0   0 435 279 424 402  34  49]\n",
            " [  0   0 316 459 424 286 280 328]\n",
            " [  0   0   0   0 467  42 255  79]\n",
            " [  0   0 435  65 424 187 435 314]\n",
            " [  0  19 262 481 424 286 280 328]\n",
            " [  0   0 196 424 286 280 357 145]]\n"
          ]
        }
      ]
    }
  ],
  "metadata": {
    "kernelspec": {
      "display_name": "Python 3",
      "name": "python3"
    },
    "language_info": {
      "codemirror_mode": {
        "name": "ipython",
        "version": 3
      },
      "file_extension": ".py",
      "mimetype": "text/x-python",
      "name": "python",
      "nbconvert_exporter": "python",
      "pygments_lexer": "ipython3",
      "version": "3.7.4"
    },
    "colab": {
      "provenance": [],
      "gpuType": "T4"
    },
    "accelerator": "GPU"
  },
  "nbformat": 4,
  "nbformat_minor": 0
}