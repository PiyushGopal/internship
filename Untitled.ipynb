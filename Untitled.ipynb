{
 "cells": [
  {
   "cell_type": "code",
   "execution_count": 1,
   "id": "47733fbb",
   "metadata": {},
   "outputs": [
    {
     "name": "stdout",
     "output_type": "stream",
     "text": [
      "Numbers: [2, 4, 45, 20]\n",
      "Expressions: ['different Gerbers', 'gerber', 'PCBs', 'more PCB']\n"
     ]
    }
   ],
   "source": [
    "import re\n",
    "from word2number import w2n\n",
    "\n",
    "message = \"\"\"Hello,\n",
    "\n",
    "Please find attached 2 different Gerbers separately and 4 gerber. We need quotation - for quickly get it done 2 layers.\n",
    "\n",
    "Also can you procure components and assemble also at end product. 45 PCBs. more PCBs twenty. my order no 224.\"\"\"\n",
    "\n",
    "expressions = [\"unit\", \"PCB\", \"more pcb\",\"gerber\",\"different gerbers\", \"quantity\",  \n",
    "               \"order number\", \"order\", \"order no\", \"amount\", \"cost\", \"Rs\", \"Rupees\", 'inr']\n",
    "\n",
    "\n",
    "all_expressions = expressions + [expression + \"s?\" for expression in expressions]\n",
    "\n",
    "\n",
    "pattern_before = r\"\\b((?:\\d+|[a-zA-Z]+\\s*[a-zA-Z]))\\s((?:\" + \"|\".join(all_expressions) + r\"))\\b\"\n",
    "\n",
    "\n",
    "pattern_after = r\"((?:\" + \"|\".join(all_expressions) + r\"))\\s*((?:\\d+|[a-zA-Z]+\\s*[a-zA-Z]*))\\b\"\n",
    "\n",
    "\n",
    "matches_before = re.findall(pattern_before, message, re.IGNORECASE)\n",
    "\n",
    "numbers_before = []\n",
    "expressions_before = []\n",
    "for match in matches_before:\n",
    "    try:\n",
    "        if match[0].isdigit():\n",
    "            numbers_before.append(int(match[0]))\n",
    "            expressions_before.append(match[1])\n",
    "        else:\n",
    "            numbers_before.append(w2n.word_to_num(match[0].lower()))\n",
    "            expressions_before.append(match[1])\n",
    "    except ValueError:\n",
    "        pass\n",
    "\n",
    "\n",
    "matches_after = re.findall(pattern_after, message, re.IGNORECASE)\n",
    "numbers_after = []\n",
    "expressions_after = []\n",
    "for match in matches_after:\n",
    "    try:\n",
    "        if match[1].isdigit():\n",
    "            numbers_after.append(int(match[1]))\n",
    "            expression = match[0]\n",
    "            expressions_after.append(expression)\n",
    "        else:\n",
    "            numbers_after.append(w2n.word_to_num(match[1].lower()))\n",
    "            expression = match[0]\n",
    "            #if expression.endswith(\"s\"):\n",
    "                #expression = expression[:-1]  # Remove the 's' from the expression if present\n",
    "            expressions_after.append(expression)\n",
    "    except ValueError:\n",
    "        pass\n",
    "\n",
    "\n",
    "numbers = numbers_before + numbers_after\n",
    "expressions = expressions_before + expressions_after\n",
    "\n",
    "print(\"Numbers:\", numbers)\n",
    "print(\"Expressions:\", expressions)"
   ]
  },
  {
   "cell_type": "code",
   "execution_count": null,
   "id": "a789a1a7",
   "metadata": {},
   "outputs": [],
   "source": []
  }
 ],
 "metadata": {
  "kernelspec": {
   "display_name": "Python 3 (ipykernel)",
   "language": "python",
   "name": "python3"
  },
  "language_info": {
   "codemirror_mode": {
    "name": "ipython",
    "version": 3
   },
   "file_extension": ".py",
   "mimetype": "text/x-python",
   "name": "python",
   "nbconvert_exporter": "python",
   "pygments_lexer": "ipython3",
   "version": "3.10.9"
  }
 },
 "nbformat": 4,
 "nbformat_minor": 5
}
