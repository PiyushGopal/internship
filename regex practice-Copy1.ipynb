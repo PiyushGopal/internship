{
 "cells": [
  {
   "cell_type": "code",
   "execution_count": 1,
   "id": "f9eedc6e",
   "metadata": {},
   "outputs": [],
   "source": [
    "import re"
   ]
  },
  {
   "cell_type": "code",
   "execution_count": 15,
   "id": "75a11f74",
   "metadata": {},
   "outputs": [],
   "source": [
    "text=\"\"\"[16:11, 6/30/2023] Prakash Sir Innotrat: Hello,\n",
    "\n",
    "Please find attached 2 different Gerbers separately. We need quotation - for quickly get it done 2 layers.\n",
    "\n",
    "Also can you procure components and assemble also at end product - thanks.\n",
    "[16:12, 6/30/2023] Prakash Sir Innotrat: I am interested in manufacturing 228 PCBs for my project. Attached are the gerber  design files. \n",
    "\n",
    "Kindly provide a quotation for approximately unit. Also, please let me know the estimated \n",
    "\n",
    "manufacturing timeline with gerber hundred. We need nine units and 58 quantity. order 748 for inr399. \"\"\" \n"
   ]
  },
  {
   "cell_type": "code",
   "execution_count": 22,
   "id": "c225c1ad",
   "metadata": {},
   "outputs": [
    {
     "data": {
      "text/plain": [
       "228"
      ]
     },
     "execution_count": 22,
     "metadata": {},
     "output_type": "execute_result"
    }
   ],
   "source": [
    "pattern = '(\\d+)\\s?PCBs?'\n",
    "pcb = re.findall(pattern, text)\n",
    "pcb=int(pcb[0])\n",
    "pcb"
   ]
  },
  {
   "cell_type": "code",
   "execution_count": 24,
   "id": "114952b9",
   "metadata": {},
   "outputs": [
    {
     "data": {
      "text/plain": [
       "'nine'"
      ]
     },
     "execution_count": 24,
     "metadata": {},
     "output_type": "execute_result"
    }
   ],
   "source": [
    "pattern = '(\\w+)\\s?units'\n",
    "units = re.findall(pattern, text)\n",
    "units=units[0]\n",
    "units"
   ]
  },
  {
   "cell_type": "code",
   "execution_count": 25,
   "id": "d2719abd",
   "metadata": {},
   "outputs": [
    {
     "data": {
      "text/plain": [
       "58"
      ]
     },
     "execution_count": 25,
     "metadata": {},
     "output_type": "execute_result"
    }
   ],
   "source": [
    "pattern = '(\\w+)\\s?quantity'\n",
    "quantity = re.findall(pattern, text)\n",
    "quantity=int(quantity[0])\n",
    "quantity"
   ]
  },
  {
   "cell_type": "code",
   "execution_count": 33,
   "id": "d6c0e964",
   "metadata": {},
   "outputs": [
    {
     "data": {
      "text/plain": [
       "'hundred'"
      ]
     },
     "execution_count": 33,
     "metadata": {},
     "output_type": "execute_result"
    }
   ],
   "source": [
    "pattern = 'gerber?\\s(\\w+)'\n",
    "gerber = re.findall(pattern, text)\n",
    "gerber = gerber[0]\n",
    "gerber"
   ]
  },
  {
   "cell_type": "code",
   "execution_count": 28,
   "id": "c95280be",
   "metadata": {},
   "outputs": [
    {
     "data": {
      "text/plain": [
       "748"
      ]
     },
     "execution_count": 28,
     "metadata": {},
     "output_type": "execute_result"
    }
   ],
   "source": [
    "pattern = 'order?\\s(\\d+|\\w+)'\n",
    "order = re.findall(pattern, text)\n",
    "order = int(order[0])\n",
    "order"
   ]
  },
  {
   "cell_type": "code",
   "execution_count": 29,
   "id": "eab8a56d",
   "metadata": {},
   "outputs": [
    {
     "data": {
      "text/plain": [
       "399"
      ]
     },
     "execution_count": 29,
     "metadata": {},
     "output_type": "execute_result"
    }
   ],
   "source": [
    "pattern = 'inr(\\d+|\\w+)'\n",
    "price = re.findall(pattern, text)\n",
    "price = int(price[0])\n",
    "price"
   ]
  },
  {
   "cell_type": "code",
   "execution_count": 9,
   "id": "3e7d8ab5",
   "metadata": {},
   "outputs": [
    {
     "name": "stdout",
     "output_type": "stream",
     "text": [
      "Requirement already satisfied: word2number in c:\\users\\hp\\anaconda3\\lib\\site-packages (1.1)\n",
      "Note: you may need to restart the kernel to use updated packages.\n"
     ]
    }
   ],
   "source": [
    "pip install word2number"
   ]
  },
  {
   "cell_type": "code",
   "execution_count": 32,
   "id": "85733285",
   "metadata": {},
   "outputs": [
    {
     "data": {
      "text/plain": [
       "9"
      ]
     },
     "execution_count": 32,
     "metadata": {},
     "output_type": "execute_result"
    }
   ],
   "source": [
    "from word2number import w2n\n",
    "units = (w2n.word_to_num(units))\n",
    "units"
   ]
  },
  {
   "cell_type": "code",
   "execution_count": 34,
   "id": "770ff9ce",
   "metadata": {},
   "outputs": [
    {
     "data": {
      "text/plain": [
       "100"
      ]
     },
     "execution_count": 34,
     "metadata": {},
     "output_type": "execute_result"
    }
   ],
   "source": [
    "from word2number import w2n\n",
    "gerber= (w2n.word_to_num(gerber))\n",
    "gerber"
   ]
  },
  {
   "cell_type": "code",
   "execution_count": 37,
   "id": "d6421ead",
   "metadata": {},
   "outputs": [
    {
     "name": "stdout",
     "output_type": "stream",
     "text": [
      "PCBS:  228\n",
      "UNITS:  9\n",
      "QUANTITY:  58\n",
      "GERBER:  100\n",
      "ORDER:  748\n",
      "INR:  399\n"
     ]
    }
   ],
   "source": [
    "\n",
    "print(\"PCBS: \" , pcb)\n",
    "print(\"UNITS: \" , units)\n",
    "print(\"QUANTITY: \" , quantity)\n",
    "print(\"GERBER: \" , gerber)\n",
    "print(\"ORDER: \" , order)\n",
    "print(\"INR: \" , price)"
   ]
  },
  {
   "cell_type": "code",
   "execution_count": null,
   "id": "504b3ebe",
   "metadata": {},
   "outputs": [],
   "source": []
  }
 ],
 "metadata": {
  "kernelspec": {
   "display_name": "Python 3 (ipykernel)",
   "language": "python",
   "name": "python3"
  },
  "language_info": {
   "codemirror_mode": {
    "name": "ipython",
    "version": 3
   },
   "file_extension": ".py",
   "mimetype": "text/x-python",
   "name": "python",
   "nbconvert_exporter": "python",
   "pygments_lexer": "ipython3",
   "version": "3.10.9"
  }
 },
 "nbformat": 4,
 "nbformat_minor": 5
}
