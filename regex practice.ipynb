{
 "cells": [
  {
   "cell_type": "code",
   "execution_count": 2,
   "id": "f9eedc6e",
   "metadata": {},
   "outputs": [],
   "source": [
    "import re"
   ]
  },
  {
   "cell_type": "code",
   "execution_count": 2,
   "id": "75a11f74",
   "metadata": {},
   "outputs": [],
   "source": [
    "chat1= 'codebasics: you ask lot of questions 😠  1235678912, abc@xyz.com'\n",
    "chat2= 'codebasics: here it is: (123)-567-8912, abc@xyz.com'\n",
    "chat3= 'codebasics: yes, phone: 1235678912 email: abc@xyz.com'"
   ]
  },
  {
   "cell_type": "code",
   "execution_count": 8,
   "id": "c225c1ad",
   "metadata": {},
   "outputs": [
    {
     "data": {
      "text/plain": [
       "['(123)-567-8912']"
      ]
     },
     "execution_count": 8,
     "metadata": {},
     "output_type": "execute_result"
    }
   ],
   "source": [
    "pattern = '\\d{10}|\\(\\d{3}\\)-\\d{3}-\\d{4}'\n",
    "matches = re.findall(pattern, chat2)\n",
    "matches"
   ]
  },
  {
   "cell_type": "code",
   "execution_count": 9,
   "id": "114952b9",
   "metadata": {},
   "outputs": [
    {
     "data": {
      "text/plain": [
       "['abc@xyz.com']"
      ]
     },
     "execution_count": 9,
     "metadata": {},
     "output_type": "execute_result"
    }
   ],
   "source": [
    "pattern_email = '[a-zA-B0-9_]*@[a-zA-Z]*\\.[A-Za-z]*' \n",
    "email = re.findall(pattern_email, chat2)\n",
    "email"
   ]
  },
  {
   "cell_type": "code",
   "execution_count": 11,
   "id": "d2719abd",
   "metadata": {},
   "outputs": [],
   "source": [
    "chats1='codebasics: Hello, I am having an issue with my order # 412889912'\n",
    "chats2='codebasics: I have a problem with my order number 412889912'\n",
    "chats3='codebasics: My order 412889912 is having an issue, I was charged 300$ when online it says 280$'"
   ]
  },
  {
   "cell_type": "code",
   "execution_count": 12,
   "id": "d6c0e964",
   "metadata": {},
   "outputs": [
    {
     "data": {
      "text/plain": [
       "['412889912']"
      ]
     },
     "execution_count": 12,
     "metadata": {},
     "output_type": "execute_result"
    }
   ],
   "source": [
    "pattern_order_number = 'order[^\\d]*(\\d*)' \n",
    "order = re.findall(pattern_order_number, chats1)\n",
    "order"
   ]
  },
  {
   "cell_type": "code",
   "execution_count": 3,
   "id": "c95280be",
   "metadata": {},
   "outputs": [],
   "source": [
    "text='''\n",
    "Born\tElon Reeve Musk\n",
    "June 28, 1971 (age 50)\n",
    "Pretoria, Transvaal, South Africa\n",
    "Citizenship\t\n",
    "South Africa (1971–present)\n",
    "Canada (1971–present)\n",
    "United States (2002–present)\n",
    "Education\tUniversity of Pennsylvania (BS, BA)\n",
    "Title\t\n",
    "Founder, CEO and Chief Engineer of SpaceX\n",
    "CEO and product architect of Tesla, Inc.\n",
    "Founder of The Boring Company and X.com (now part of PayPal)\n",
    "Co-founder of Neuralink, OpenAI, and Zip2\n",
    "Spouse(s)\t\n",
    "Justine Wilson\n",
    "​\n",
    "​(m. 2000; div. 2008)​\n",
    "Talulah Riley\n",
    "​\n",
    "​(m. 2010; div. 2012)​\n",
    "​\n",
    "​(m. 2013; div. 2016)\n",
    "'''"
   ]
  },
  {
   "cell_type": "code",
   "execution_count": 14,
   "id": "eab8a56d",
   "metadata": {},
   "outputs": [
    {
     "data": {
      "text/plain": [
       "['50']"
      ]
     },
     "execution_count": 14,
     "metadata": {},
     "output_type": "execute_result"
    }
   ],
   "source": [
    "pattern_text = 'age (\\d+)'\n",
    "age = re.findall(pattern_text, text)\n",
    "age"
   ]
  },
  {
   "cell_type": "code",
   "execution_count": 16,
   "id": "d202de5b",
   "metadata": {},
   "outputs": [
    {
     "data": {
      "text/plain": [
       "'Elon Reeve Musk'"
      ]
     },
     "execution_count": 16,
     "metadata": {},
     "output_type": "execute_result"
    }
   ],
   "source": [
    "#match everything after born till the end of the line\n",
    "pattern_born ='Born(.*)\\n'\n",
    "born = re.findall(pattern_born, text)\n",
    "born[0].strip()"
   ]
  },
  {
   "cell_type": "code",
   "execution_count": 17,
   "id": "6e64e0ce",
   "metadata": {},
   "outputs": [
    {
     "data": {
      "text/plain": [
       "['June 28, 1971 ']"
      ]
     },
     "execution_count": 17,
     "metadata": {},
     "output_type": "execute_result"
    }
   ],
   "source": [
    "'''captures everything between name and age that is birth date. \n",
    "\\( at the end specifies capture everthing till ('''\n",
    "pattern_birthdate = 'Born.*\\n(.*)\\('\n",
    "birthdate = re.findall(pattern_birthdate, text)\n",
    "birthdate"
   ]
  },
  {
   "cell_type": "code",
   "execution_count": 5,
   "id": "6da01f4d",
   "metadata": {},
   "outputs": [
    {
     "data": {
      "text/plain": [
       "['Pretoria, Transvaal, South Africa']"
      ]
     },
     "execution_count": 5,
     "metadata": {},
     "output_type": "execute_result"
    }
   ],
   "source": [
    "pattern_birthplace = '\\(age.*\\n(.*)'\n",
    "birthplace = re.findall(pattern_birthplace,text)\n",
    "birthplace"
   ]
  },
  {
   "cell_type": "code",
   "execution_count": null,
   "id": "7a4403ba",
   "metadata": {},
   "outputs": [],
   "source": [
    "(\\d+)\\s?PCBs?\n",
    "(\\w+)\\s?units\n",
    "(\\w+)\\s?quantity\n",
    "gerber?\\s(\\w+)\n",
    "order?\\s(\\d+|\\w+)\n",
    "inr(\\d+|\\w+)"
   ]
  }
 ],
 "metadata": {
  "kernelspec": {
   "display_name": "Python 3 (ipykernel)",
   "language": "python",
   "name": "python3"
  },
  "language_info": {
   "codemirror_mode": {
    "name": "ipython",
    "version": 3
   },
   "file_extension": ".py",
   "mimetype": "text/x-python",
   "name": "python",
   "nbconvert_exporter": "python",
   "pygments_lexer": "ipython3",
   "version": "3.10.9"
  }
 },
 "nbformat": 4,
 "nbformat_minor": 5
}
